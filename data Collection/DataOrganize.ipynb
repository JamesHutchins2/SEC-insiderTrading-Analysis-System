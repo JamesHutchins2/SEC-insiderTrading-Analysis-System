{
 "cells": [
  {
   "cell_type": "code",
   "execution_count": 3,
   "metadata": {},
   "outputs": [],
   "source": [
    "import pandas as pd\n",
    "import numpy as np\n",
    "import os\n",
    "import sys\n",
    "import time\n",
    "import datetime\n",
    "\n",
    "#first let's import the data\n",
    "df = pd.read_csv('masterForm4.csv')\n",
    "\n",
    "\n",
    "#convert the date filed column to a date object without time\n",
    "df['Date Filed'] = pd.to_datetime(df['Date Filed'], format='%Y%m%d')\n",
    "\n",
    "\n",
    "#convert links to the actual links\n",
    "\n",
    "extenstion = \"https://www.sec.gov/Archives/\"\n",
    "df['File Name'] = df['File Name'].apply(lambda x: extenstion + x)\n"
   ]
  },
  {
   "cell_type": "code",
   "execution_count": 4,
   "metadata": {},
   "outputs": [
    {
     "data": {
      "text/html": [
       "<div>\n",
       "<style scoped>\n",
       "    .dataframe tbody tr th:only-of-type {\n",
       "        vertical-align: middle;\n",
       "    }\n",
       "\n",
       "    .dataframe tbody tr th {\n",
       "        vertical-align: top;\n",
       "    }\n",
       "\n",
       "    .dataframe thead th {\n",
       "        text-align: right;\n",
       "    }\n",
       "</style>\n",
       "<table border=\"1\" class=\"dataframe\">\n",
       "  <thead>\n",
       "    <tr style=\"text-align: right;\">\n",
       "      <th></th>\n",
       "      <th>Company Name</th>\n",
       "      <th>Form Type</th>\n",
       "      <th>CIK</th>\n",
       "      <th>Date Filed</th>\n",
       "      <th>File Name</th>\n",
       "    </tr>\n",
       "  </thead>\n",
       "  <tbody>\n",
       "    <tr>\n",
       "      <th>0</th>\n",
       "      <td>ANSCHUTZ PHILIP F</td>\n",
       "      <td>4</td>\n",
       "      <td>38079</td>\n",
       "      <td>1998-05-18</td>\n",
       "      <td>https://www.sec.gov/Archives/edgar/data/38079/...</td>\n",
       "    </tr>\n",
       "    <tr>\n",
       "      <th>1</th>\n",
       "      <td>ANSCHUTZ PHILIP F</td>\n",
       "      <td>4</td>\n",
       "      <td>944423</td>\n",
       "      <td>1998-05-18</td>\n",
       "      <td>https://www.sec.gov/Archives/edgar/data/944423...</td>\n",
       "    </tr>\n",
       "    <tr>\n",
       "      <th>2</th>\n",
       "      <td>ARASKOG RAND V</td>\n",
       "      <td>4</td>\n",
       "      <td>1014314</td>\n",
       "      <td>1998-05-18</td>\n",
       "      <td>https://www.sec.gov/Archives/edgar/data/101431...</td>\n",
       "    </tr>\n",
       "    <tr>\n",
       "      <th>3</th>\n",
       "      <td>ARASKOG RAND V</td>\n",
       "      <td>4</td>\n",
       "      <td>216228</td>\n",
       "      <td>1998-05-18</td>\n",
       "      <td>https://www.sec.gov/Archives/edgar/data/216228...</td>\n",
       "    </tr>\n",
       "    <tr>\n",
       "      <th>4</th>\n",
       "      <td>BRADY LARRY D</td>\n",
       "      <td>4</td>\n",
       "      <td>1012810</td>\n",
       "      <td>1998-05-18</td>\n",
       "      <td>https://www.sec.gov/Archives/edgar/data/101281...</td>\n",
       "    </tr>\n",
       "  </tbody>\n",
       "</table>\n",
       "</div>"
      ],
      "text/plain": [
       "        Company Name  Form Type      CIK Date Filed  \\\n",
       "0  ANSCHUTZ PHILIP F          4    38079 1998-05-18   \n",
       "1  ANSCHUTZ PHILIP F          4   944423 1998-05-18   \n",
       "2     ARASKOG RAND V          4  1014314 1998-05-18   \n",
       "3     ARASKOG RAND V          4   216228 1998-05-18   \n",
       "4      BRADY LARRY D          4  1012810 1998-05-18   \n",
       "\n",
       "                                           File Name  \n",
       "0  https://www.sec.gov/Archives/edgar/data/38079/...  \n",
       "1  https://www.sec.gov/Archives/edgar/data/944423...  \n",
       "2  https://www.sec.gov/Archives/edgar/data/101431...  \n",
       "3  https://www.sec.gov/Archives/edgar/data/216228...  \n",
       "4  https://www.sec.gov/Archives/edgar/data/101281...  "
      ]
     },
     "execution_count": 4,
     "metadata": {},
     "output_type": "execute_result"
    }
   ],
   "source": [
    "df.head()"
   ]
  },
  {
   "cell_type": "code",
   "execution_count": null,
   "metadata": {},
   "outputs": [],
   "source": []
  },
  {
   "cell_type": "markdown",
   "metadata": {},
   "source": []
  },
  {
   "cell_type": "code",
   "execution_count": 5,
   "metadata": {},
   "outputs": [],
   "source": [
    "#print to csv\n",
    "df.to_csv('cleaned4.csv', index=False)"
   ]
  }
 ],
 "metadata": {
  "kernelspec": {
   "display_name": "Python 3",
   "language": "python",
   "name": "python3"
  },
  "language_info": {
   "codemirror_mode": {
    "name": "ipython",
    "version": 3
   },
   "file_extension": ".py",
   "mimetype": "text/x-python",
   "name": "python",
   "nbconvert_exporter": "python",
   "pygments_lexer": "ipython3",
   "version": "3.9.13 (tags/v3.9.13:6de2ca5, May 17 2022, 16:36:42) [MSC v.1929 64 bit (AMD64)]"
  },
  "orig_nbformat": 4,
  "vscode": {
   "interpreter": {
    "hash": "bbbfd17ecadaba743870d1db4721335248acf2e3b3d095351d8ddf1da7dfc52c"
   }
  }
 },
 "nbformat": 4,
 "nbformat_minor": 2
}
