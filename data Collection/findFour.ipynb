{
 "cells": [
  {
   "cell_type": "code",
   "execution_count": 4,
   "metadata": {},
   "outputs": [],
   "source": [
    "import pandas as pd\n",
    "import numpy as np\n",
    "import os\n",
    "import sys\n",
    "import time"
   ]
  },
  {
   "cell_type": "code",
   "execution_count": 5,
   "metadata": {},
   "outputs": [
    {
     "name": "stderr",
     "output_type": "stream",
     "text": [
      "C:\\Users\\James\\AppData\\Local\\Packages\\PythonSoftwareFoundation.Python.3.9_qbz5n2kfra8p0\\LocalCache\\local-packages\\Python39\\site-packages\\IPython\\core\\interactiveshell.py:3139: DtypeWarning: Columns (2,3) have mixed types.Specify dtype option on import or set low_memory=False.\n",
      "  has_raised = await self.run_ast_nodes(code_ast.body, cell_name,\n"
     ]
    }
   ],
   "source": [
    "df = pd.read_csv('idxFiles.csv')"
   ]
  },
  {
   "cell_type": "code",
   "execution_count": 23,
   "metadata": {},
   "outputs": [
    {
     "data": {
      "text/plain": [
       "18879280"
      ]
     },
     "execution_count": 23,
     "metadata": {},
     "output_type": "execute_result"
    }
   ],
   "source": [
    "len(df)"
   ]
  },
  {
   "cell_type": "code",
   "execution_count": 9,
   "metadata": {},
   "outputs": [],
   "source": [
    "def isFour(s):\n",
    "    #make s into a string\n",
    "    s = str(s)\n",
    "    s = s.strip()\n",
    "    if len(s) != 1:\n",
    "        return False\n",
    "    if s == '4':\n",
    "        return True\n",
    "    return False"
   ]
  },
  {
   "cell_type": "code",
   "execution_count": 25,
   "metadata": {},
   "outputs": [],
   "source": [
    "#for the data frame itter through each row and check if it is a four\n",
    "length = 18879280\n",
    "j = 0\n",
    "for i in df.index:\n",
    "    precent = i/length * 100\n",
    "    j = j +1\n",
    "    if j > 1000:\n",
    "        print(precent)\n",
    "        j = 0\n",
    "    #get the current row\n",
    "    row = df.loc[i]\n",
    "    #get the form tyoe\n",
    "    formType = row['Form Type']\n",
    "    s = str(formType)\n",
    "    s = s.strip()\n",
    "\n",
    "    if len(s) != 1:\n",
    "       \n",
    "        #remove the row\n",
    "        df.drop(i)\n",
    "    if s == '4':\n",
    "        continue\n",
    "    else:\n",
    "        \n",
    "        #remove the row\n",
    "        df.drop(i)"
   ]
  },
  {
   "cell_type": "code",
   "execution_count": null,
   "metadata": {},
   "outputs": [],
   "source": []
  }
 ],
 "metadata": {
  "kernelspec": {
   "display_name": "Python 3",
   "language": "python",
   "name": "python3"
  },
  "language_info": {
   "codemirror_mode": {
    "name": "ipython",
    "version": 3
   },
   "file_extension": ".py",
   "mimetype": "text/x-python",
   "name": "python",
   "nbconvert_exporter": "python",
   "pygments_lexer": "ipython3",
   "version": "3.9.13 (tags/v3.9.13:6de2ca5, May 17 2022, 16:36:42) [MSC v.1929 64 bit (AMD64)]"
  },
  "orig_nbformat": 4,
  "vscode": {
   "interpreter": {
    "hash": "bbbfd17ecadaba743870d1db4721335248acf2e3b3d095351d8ddf1da7dfc52c"
   }
  }
 },
 "nbformat": 4,
 "nbformat_minor": 2
}
